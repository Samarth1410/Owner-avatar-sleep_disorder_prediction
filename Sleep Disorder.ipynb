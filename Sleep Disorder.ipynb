{
 "cells": [
  {
   "cell_type": "markdown",
   "id": "0638e913",
   "metadata": {},
   "source": [
    "# Sleep Disorder Prediction\n",
    "The aim of the project is to analyze the person's lifestyles and medical variables such as age, BMI, physical activity, sleep duration, blood pressure and many more, to predict the sleep disorder and its type.\n",
    "\n"
   ]
  },
  {
   "cell_type": "markdown",
   "id": "bc923a13",
   "metadata": {},
   "source": [
    "# About the Dataset\n",
    "The Sleep Health and Lifestyle Dataset comprises 400 rows and 13 columns, covering a wide range of variables related to sleep and daily habits. It includes details such as gender, age, occupation, sleep duration, quality of sleep, physical activity level, stress levels, BMI category, blood pressure, heart rate, daily steps, and the presence or absence of sleep disorders.\n",
    "\n"
   ]
  },
  {
   "cell_type": "markdown",
   "id": "9d88d53f",
   "metadata": {},
   "source": [
    "# Key Features of the Dataset:\n",
    "Comprehensive Sleep Metrics: Explore sleep duration, quality, and factors influencing sleep patterns.\n",
    "Lifestyle Factors: Analyze physical activity levels, stress levels, and BMI categories.\n",
    "Cardiovascular Health: Examine blood pressure and heart rate measurements.\n",
    "Sleep Disorder Analysis: Identify the occurrence of sleep disorders such as Insomnia and Sleep Apnea."
   ]
  },
  {
   "cell_type": "markdown",
   "id": "8a6342d1",
   "metadata": {},
   "source": [
    "# Data Dictionary\n",
    "\n",
    "Column Name\t ------------      Description\n",
    "\n",
    "Person_ID\t ------------      Unique ID assigned to each person\n",
    "\n",
    "Gender\t     ------------      The gender of the person (Male/Female)\n",
    "\n",
    "Age\t         ------------      Age of the person in years\n",
    "\n",
    "Occupation\t-------------      The occupation of the person\n",
    "\n",
    "Sleep_duration\t----------     The duration of sleep of the person in hours\n",
    "\n",
    "Quality_of_sleep --------\t   A subjective rating of the quality of sleep, ranging from 1 to 10\n",
    "\n",
    "Physical_activity -------\t   The level of physical activity of the person (Low/Medium/High)\n",
    "\n",
    "Stress Level\t----------     A subjective rating of the stress level, ranging from 1 to 10\n",
    "\n",
    "BMI_category\t----------     The BMI category of the person (Underweight/Normal/Overweight/Obesity)\n",
    "\n",
    "Blood_pressure\t----------     The blood pressure of the person in mmHg\n",
    "\n",
    "Heart_rate\t   ----------      The heart rate of the person in beats per minute\n",
    "\n",
    "Daily Steps\t   ----------      The number of steps taken by the person per day\n",
    "\n",
    "Sleep_disorder   --------\t   The presence or absence of a sleep disorder in the person (None, Insomnia, Sleep Apnea)"
   ]
  },
  {
   "cell_type": "markdown",
   "id": "bc3b9219",
   "metadata": {},
   "source": [
    "# Details about Sleep Disorder Column:\n",
    "None: The individual does not exhibit any specific sleep disorder.\n",
    "\n",
    "Insomnia: The individual experiences difficulty falling asleep or staying asleep, leading to inadequate or poor-quality sleep.\n",
    "\n",
    "Sleep Apnea: The individual suffers from pauses in breathing during sleep, resulting in disrupted sleep patterns and potential health risks.\n"
   ]
  },
  {
   "cell_type": "code",
   "execution_count": 1,
   "id": "ff8b3d06",
   "metadata": {},
   "outputs": [],
   "source": [
    "#importing the necessary libraries\n",
    "import pandas as pd\n",
    "import numpy as np\n",
    "import seaborn as sns\n",
    "import matplotlib.pyplot as plt\n",
    "import warnings\n",
    "warnings.filterwarnings('ignore')\n",
    "%matplotlib inline"
   ]
  },
  {
   "cell_type": "code",
   "execution_count": 29,
   "id": "367462c5",
   "metadata": {},
   "outputs": [],
   "source": [
    "#reading the sleep dataset\n",
    "df = pd.read_csv('Sleep_health_and_lifestyle_dataset.csv')"
   ]
  },
  {
   "cell_type": "code",
   "execution_count": 30,
   "id": "e32e718e",
   "metadata": {},
   "outputs": [
    {
     "data": {
      "text/html": [
       "<div>\n",
       "<style scoped>\n",
       "    .dataframe tbody tr th:only-of-type {\n",
       "        vertical-align: middle;\n",
       "    }\n",
       "\n",
       "    .dataframe tbody tr th {\n",
       "        vertical-align: top;\n",
       "    }\n",
       "\n",
       "    .dataframe thead th {\n",
       "        text-align: right;\n",
       "    }\n",
       "</style>\n",
       "<table border=\"1\" class=\"dataframe\">\n",
       "  <thead>\n",
       "    <tr style=\"text-align: right;\">\n",
       "      <th></th>\n",
       "      <th>Person ID</th>\n",
       "      <th>Gender</th>\n",
       "      <th>Age</th>\n",
       "      <th>Occupation</th>\n",
       "      <th>Sleep Duration</th>\n",
       "      <th>Quality of Sleep</th>\n",
       "      <th>Physical Activity Level</th>\n",
       "      <th>Stress Level</th>\n",
       "      <th>BMI Category</th>\n",
       "      <th>Blood Pressure</th>\n",
       "      <th>Heart Rate</th>\n",
       "      <th>Daily Steps</th>\n",
       "      <th>Sleep Disorder</th>\n",
       "    </tr>\n",
       "  </thead>\n",
       "  <tbody>\n",
       "    <tr>\n",
       "      <th>0</th>\n",
       "      <td>1</td>\n",
       "      <td>Male</td>\n",
       "      <td>27</td>\n",
       "      <td>Software Engineer</td>\n",
       "      <td>6.1</td>\n",
       "      <td>6</td>\n",
       "      <td>42</td>\n",
       "      <td>6</td>\n",
       "      <td>Overweight</td>\n",
       "      <td>126/83</td>\n",
       "      <td>77</td>\n",
       "      <td>4200</td>\n",
       "      <td>None</td>\n",
       "    </tr>\n",
       "    <tr>\n",
       "      <th>1</th>\n",
       "      <td>2</td>\n",
       "      <td>Male</td>\n",
       "      <td>28</td>\n",
       "      <td>Doctor</td>\n",
       "      <td>6.2</td>\n",
       "      <td>6</td>\n",
       "      <td>60</td>\n",
       "      <td>8</td>\n",
       "      <td>Normal</td>\n",
       "      <td>125/80</td>\n",
       "      <td>75</td>\n",
       "      <td>10000</td>\n",
       "      <td>None</td>\n",
       "    </tr>\n",
       "    <tr>\n",
       "      <th>2</th>\n",
       "      <td>3</td>\n",
       "      <td>Male</td>\n",
       "      <td>28</td>\n",
       "      <td>Doctor</td>\n",
       "      <td>6.2</td>\n",
       "      <td>6</td>\n",
       "      <td>60</td>\n",
       "      <td>8</td>\n",
       "      <td>Normal</td>\n",
       "      <td>125/80</td>\n",
       "      <td>75</td>\n",
       "      <td>10000</td>\n",
       "      <td>None</td>\n",
       "    </tr>\n",
       "    <tr>\n",
       "      <th>3</th>\n",
       "      <td>4</td>\n",
       "      <td>Male</td>\n",
       "      <td>28</td>\n",
       "      <td>Sales Representative</td>\n",
       "      <td>5.9</td>\n",
       "      <td>4</td>\n",
       "      <td>30</td>\n",
       "      <td>8</td>\n",
       "      <td>Obese</td>\n",
       "      <td>140/90</td>\n",
       "      <td>85</td>\n",
       "      <td>3000</td>\n",
       "      <td>Sleep Apnea</td>\n",
       "    </tr>\n",
       "    <tr>\n",
       "      <th>4</th>\n",
       "      <td>5</td>\n",
       "      <td>Male</td>\n",
       "      <td>28</td>\n",
       "      <td>Sales Representative</td>\n",
       "      <td>5.9</td>\n",
       "      <td>4</td>\n",
       "      <td>30</td>\n",
       "      <td>8</td>\n",
       "      <td>Obese</td>\n",
       "      <td>140/90</td>\n",
       "      <td>85</td>\n",
       "      <td>3000</td>\n",
       "      <td>Sleep Apnea</td>\n",
       "    </tr>\n",
       "  </tbody>\n",
       "</table>\n",
       "</div>"
      ],
      "text/plain": [
       "   Person ID Gender  Age            Occupation  Sleep Duration  \\\n",
       "0          1   Male   27     Software Engineer             6.1   \n",
       "1          2   Male   28                Doctor             6.2   \n",
       "2          3   Male   28                Doctor             6.2   \n",
       "3          4   Male   28  Sales Representative             5.9   \n",
       "4          5   Male   28  Sales Representative             5.9   \n",
       "\n",
       "   Quality of Sleep  Physical Activity Level  Stress Level BMI Category  \\\n",
       "0                 6                       42             6   Overweight   \n",
       "1                 6                       60             8       Normal   \n",
       "2                 6                       60             8       Normal   \n",
       "3                 4                       30             8        Obese   \n",
       "4                 4                       30             8        Obese   \n",
       "\n",
       "  Blood Pressure  Heart Rate  Daily Steps Sleep Disorder  \n",
       "0         126/83          77         4200           None  \n",
       "1         125/80          75        10000           None  \n",
       "2         125/80          75        10000           None  \n",
       "3         140/90          85         3000    Sleep Apnea  \n",
       "4         140/90          85         3000    Sleep Apnea  "
      ]
     },
     "execution_count": 30,
     "metadata": {},
     "output_type": "execute_result"
    }
   ],
   "source": [
    "#top 5 rows of thd dataset\n",
    "df.head()"
   ]
  },
  {
   "cell_type": "code",
   "execution_count": 31,
   "id": "f0769fee",
   "metadata": {},
   "outputs": [
    {
     "data": {
      "text/plain": [
       "Index(['Person ID', 'Gender', 'Age', 'Occupation', 'Sleep Duration',\n",
       "       'Quality of Sleep', 'Physical Activity Level', 'Stress Level',\n",
       "       'BMI Category', 'Blood Pressure', 'Heart Rate', 'Daily Steps',\n",
       "       'Sleep Disorder'],\n",
       "      dtype='object')"
      ]
     },
     "execution_count": 31,
     "metadata": {},
     "output_type": "execute_result"
    }
   ],
   "source": [
    "#finding the columns in out dataset\n",
    "df.columns"
   ]
  },
  {
   "cell_type": "code",
   "execution_count": 32,
   "id": "40c540a4",
   "metadata": {},
   "outputs": [
    {
     "data": {
      "text/plain": [
       "None           219\n",
       "Sleep Apnea     78\n",
       "Insomnia        77\n",
       "Name: Sleep Disorder, dtype: int64"
      ]
     },
     "execution_count": 32,
     "metadata": {},
     "output_type": "execute_result"
    }
   ],
   "source": [
    "df['Sleep Disorder'].value_counts()"
   ]
  },
  {
   "cell_type": "code",
   "execution_count": 33,
   "id": "cd05a369",
   "metadata": {},
   "outputs": [
    {
     "data": {
      "text/plain": [
       "(374, 13)"
      ]
     },
     "execution_count": 33,
     "metadata": {},
     "output_type": "execute_result"
    }
   ],
   "source": [
    "#finding the shape of the dataset\n",
    "df.shape"
   ]
  },
  {
   "cell_type": "code",
   "execution_count": 34,
   "id": "44014c7f",
   "metadata": {},
   "outputs": [
    {
     "data": {
      "text/plain": [
       "Person ID                  0\n",
       "Gender                     0\n",
       "Age                        0\n",
       "Occupation                 0\n",
       "Sleep Duration             0\n",
       "Quality of Sleep           0\n",
       "Physical Activity Level    0\n",
       "Stress Level               0\n",
       "BMI Category               0\n",
       "Blood Pressure             0\n",
       "Heart Rate                 0\n",
       "Daily Steps                0\n",
       "Sleep Disorder             0\n",
       "dtype: int64"
      ]
     },
     "execution_count": 34,
     "metadata": {},
     "output_type": "execute_result"
    }
   ],
   "source": [
    "#finding the null /missing values\n",
    "df.isnull().sum()\n"
   ]
  },
  {
   "cell_type": "raw",
   "id": "bcbaa369",
   "metadata": {},
   "source": [
    "Observation: No null / missing values found"
   ]
  },
  {
   "cell_type": "code",
   "execution_count": 35,
   "id": "88ba59d8",
   "metadata": {},
   "outputs": [
    {
     "data": {
      "text/plain": [
       "0"
      ]
     },
     "execution_count": 35,
     "metadata": {},
     "output_type": "execute_result"
    }
   ],
   "source": [
    "#find the duplicate values\n",
    "df.duplicated().sum()"
   ]
  },
  {
   "cell_type": "code",
   "execution_count": 36,
   "id": "4d5a7dab",
   "metadata": {},
   "outputs": [
    {
     "name": "stdout",
     "output_type": "stream",
     "text": [
      "<class 'pandas.core.frame.DataFrame'>\n",
      "RangeIndex: 374 entries, 0 to 373\n",
      "Data columns (total 13 columns):\n",
      " #   Column                   Non-Null Count  Dtype  \n",
      "---  ------                   --------------  -----  \n",
      " 0   Person ID                374 non-null    int64  \n",
      " 1   Gender                   374 non-null    object \n",
      " 2   Age                      374 non-null    int64  \n",
      " 3   Occupation               374 non-null    object \n",
      " 4   Sleep Duration           374 non-null    float64\n",
      " 5   Quality of Sleep         374 non-null    int64  \n",
      " 6   Physical Activity Level  374 non-null    int64  \n",
      " 7   Stress Level             374 non-null    int64  \n",
      " 8   BMI Category             374 non-null    object \n",
      " 9   Blood Pressure           374 non-null    object \n",
      " 10  Heart Rate               374 non-null    int64  \n",
      " 11  Daily Steps              374 non-null    int64  \n",
      " 12  Sleep Disorder           374 non-null    object \n",
      "dtypes: float64(1), int64(7), object(5)\n",
      "memory usage: 38.1+ KB\n"
     ]
    }
   ],
   "source": [
    "#finding the datatypes\n",
    "df.info()"
   ]
  },
  {
   "cell_type": "code",
   "execution_count": 37,
   "id": "afe37a41",
   "metadata": {},
   "outputs": [
    {
     "data": {
      "text/html": [
       "<div>\n",
       "<style scoped>\n",
       "    .dataframe tbody tr th:only-of-type {\n",
       "        vertical-align: middle;\n",
       "    }\n",
       "\n",
       "    .dataframe tbody tr th {\n",
       "        vertical-align: top;\n",
       "    }\n",
       "\n",
       "    .dataframe thead th {\n",
       "        text-align: right;\n",
       "    }\n",
       "</style>\n",
       "<table border=\"1\" class=\"dataframe\">\n",
       "  <thead>\n",
       "    <tr style=\"text-align: right;\">\n",
       "      <th></th>\n",
       "      <th>Person ID</th>\n",
       "      <th>Age</th>\n",
       "      <th>Sleep Duration</th>\n",
       "      <th>Quality of Sleep</th>\n",
       "      <th>Physical Activity Level</th>\n",
       "      <th>Stress Level</th>\n",
       "      <th>Heart Rate</th>\n",
       "      <th>Daily Steps</th>\n",
       "    </tr>\n",
       "  </thead>\n",
       "  <tbody>\n",
       "    <tr>\n",
       "      <th>count</th>\n",
       "      <td>374.000000</td>\n",
       "      <td>374.000000</td>\n",
       "      <td>374.000000</td>\n",
       "      <td>374.000000</td>\n",
       "      <td>374.000000</td>\n",
       "      <td>374.000000</td>\n",
       "      <td>374.000000</td>\n",
       "      <td>374.000000</td>\n",
       "    </tr>\n",
       "    <tr>\n",
       "      <th>mean</th>\n",
       "      <td>187.500000</td>\n",
       "      <td>42.184492</td>\n",
       "      <td>7.132086</td>\n",
       "      <td>7.312834</td>\n",
       "      <td>59.171123</td>\n",
       "      <td>5.385027</td>\n",
       "      <td>70.165775</td>\n",
       "      <td>6816.844920</td>\n",
       "    </tr>\n",
       "    <tr>\n",
       "      <th>std</th>\n",
       "      <td>108.108742</td>\n",
       "      <td>8.673133</td>\n",
       "      <td>0.795657</td>\n",
       "      <td>1.196956</td>\n",
       "      <td>20.830804</td>\n",
       "      <td>1.774526</td>\n",
       "      <td>4.135676</td>\n",
       "      <td>1617.915679</td>\n",
       "    </tr>\n",
       "    <tr>\n",
       "      <th>min</th>\n",
       "      <td>1.000000</td>\n",
       "      <td>27.000000</td>\n",
       "      <td>5.800000</td>\n",
       "      <td>4.000000</td>\n",
       "      <td>30.000000</td>\n",
       "      <td>3.000000</td>\n",
       "      <td>65.000000</td>\n",
       "      <td>3000.000000</td>\n",
       "    </tr>\n",
       "    <tr>\n",
       "      <th>25%</th>\n",
       "      <td>94.250000</td>\n",
       "      <td>35.250000</td>\n",
       "      <td>6.400000</td>\n",
       "      <td>6.000000</td>\n",
       "      <td>45.000000</td>\n",
       "      <td>4.000000</td>\n",
       "      <td>68.000000</td>\n",
       "      <td>5600.000000</td>\n",
       "    </tr>\n",
       "    <tr>\n",
       "      <th>50%</th>\n",
       "      <td>187.500000</td>\n",
       "      <td>43.000000</td>\n",
       "      <td>7.200000</td>\n",
       "      <td>7.000000</td>\n",
       "      <td>60.000000</td>\n",
       "      <td>5.000000</td>\n",
       "      <td>70.000000</td>\n",
       "      <td>7000.000000</td>\n",
       "    </tr>\n",
       "    <tr>\n",
       "      <th>75%</th>\n",
       "      <td>280.750000</td>\n",
       "      <td>50.000000</td>\n",
       "      <td>7.800000</td>\n",
       "      <td>8.000000</td>\n",
       "      <td>75.000000</td>\n",
       "      <td>7.000000</td>\n",
       "      <td>72.000000</td>\n",
       "      <td>8000.000000</td>\n",
       "    </tr>\n",
       "    <tr>\n",
       "      <th>max</th>\n",
       "      <td>374.000000</td>\n",
       "      <td>59.000000</td>\n",
       "      <td>8.500000</td>\n",
       "      <td>9.000000</td>\n",
       "      <td>90.000000</td>\n",
       "      <td>8.000000</td>\n",
       "      <td>86.000000</td>\n",
       "      <td>10000.000000</td>\n",
       "    </tr>\n",
       "  </tbody>\n",
       "</table>\n",
       "</div>"
      ],
      "text/plain": [
       "        Person ID         Age  Sleep Duration  Quality of Sleep  \\\n",
       "count  374.000000  374.000000      374.000000        374.000000   \n",
       "mean   187.500000   42.184492        7.132086          7.312834   \n",
       "std    108.108742    8.673133        0.795657          1.196956   \n",
       "min      1.000000   27.000000        5.800000          4.000000   \n",
       "25%     94.250000   35.250000        6.400000          6.000000   \n",
       "50%    187.500000   43.000000        7.200000          7.000000   \n",
       "75%    280.750000   50.000000        7.800000          8.000000   \n",
       "max    374.000000   59.000000        8.500000          9.000000   \n",
       "\n",
       "       Physical Activity Level  Stress Level  Heart Rate   Daily Steps  \n",
       "count               374.000000    374.000000  374.000000    374.000000  \n",
       "mean                 59.171123      5.385027   70.165775   6816.844920  \n",
       "std                  20.830804      1.774526    4.135676   1617.915679  \n",
       "min                  30.000000      3.000000   65.000000   3000.000000  \n",
       "25%                  45.000000      4.000000   68.000000   5600.000000  \n",
       "50%                  60.000000      5.000000   70.000000   7000.000000  \n",
       "75%                  75.000000      7.000000   72.000000   8000.000000  \n",
       "max                  90.000000      8.000000   86.000000  10000.000000  "
      ]
     },
     "execution_count": 37,
     "metadata": {},
     "output_type": "execute_result"
    }
   ],
   "source": [
    "#statistical analysis of out data\n",
    "df.describe()"
   ]
  },
  {
   "cell_type": "code",
   "execution_count": 38,
   "id": "9b6d7d7a",
   "metadata": {},
   "outputs": [
    {
     "data": {
      "text/html": [
       "<div>\n",
       "<style scoped>\n",
       "    .dataframe tbody tr th:only-of-type {\n",
       "        vertical-align: middle;\n",
       "    }\n",
       "\n",
       "    .dataframe tbody tr th {\n",
       "        vertical-align: top;\n",
       "    }\n",
       "\n",
       "    .dataframe thead th {\n",
       "        text-align: right;\n",
       "    }\n",
       "</style>\n",
       "<table border=\"1\" class=\"dataframe\">\n",
       "  <thead>\n",
       "    <tr style=\"text-align: right;\">\n",
       "      <th></th>\n",
       "      <th>Person ID</th>\n",
       "      <th>Age</th>\n",
       "      <th>Sleep Duration</th>\n",
       "      <th>Quality of Sleep</th>\n",
       "      <th>Physical Activity Level</th>\n",
       "      <th>Stress Level</th>\n",
       "      <th>Heart Rate</th>\n",
       "      <th>Daily Steps</th>\n",
       "    </tr>\n",
       "  </thead>\n",
       "  <tbody>\n",
       "    <tr>\n",
       "      <th>Person ID</th>\n",
       "      <td>1.000000</td>\n",
       "      <td>0.990516</td>\n",
       "      <td>0.296305</td>\n",
       "      <td>0.431612</td>\n",
       "      <td>0.149882</td>\n",
       "      <td>-0.394287</td>\n",
       "      <td>-0.225467</td>\n",
       "      <td>0.043844</td>\n",
       "    </tr>\n",
       "    <tr>\n",
       "      <th>Age</th>\n",
       "      <td>0.990516</td>\n",
       "      <td>1.000000</td>\n",
       "      <td>0.344709</td>\n",
       "      <td>0.473734</td>\n",
       "      <td>0.178993</td>\n",
       "      <td>-0.422344</td>\n",
       "      <td>-0.225606</td>\n",
       "      <td>0.057973</td>\n",
       "    </tr>\n",
       "    <tr>\n",
       "      <th>Sleep Duration</th>\n",
       "      <td>0.296305</td>\n",
       "      <td>0.344709</td>\n",
       "      <td>1.000000</td>\n",
       "      <td>0.883213</td>\n",
       "      <td>0.212360</td>\n",
       "      <td>-0.811023</td>\n",
       "      <td>-0.516455</td>\n",
       "      <td>-0.039533</td>\n",
       "    </tr>\n",
       "    <tr>\n",
       "      <th>Quality of Sleep</th>\n",
       "      <td>0.431612</td>\n",
       "      <td>0.473734</td>\n",
       "      <td>0.883213</td>\n",
       "      <td>1.000000</td>\n",
       "      <td>0.192896</td>\n",
       "      <td>-0.898752</td>\n",
       "      <td>-0.659865</td>\n",
       "      <td>0.016791</td>\n",
       "    </tr>\n",
       "    <tr>\n",
       "      <th>Physical Activity Level</th>\n",
       "      <td>0.149882</td>\n",
       "      <td>0.178993</td>\n",
       "      <td>0.212360</td>\n",
       "      <td>0.192896</td>\n",
       "      <td>1.000000</td>\n",
       "      <td>-0.034134</td>\n",
       "      <td>0.136971</td>\n",
       "      <td>0.772723</td>\n",
       "    </tr>\n",
       "    <tr>\n",
       "      <th>Stress Level</th>\n",
       "      <td>-0.394287</td>\n",
       "      <td>-0.422344</td>\n",
       "      <td>-0.811023</td>\n",
       "      <td>-0.898752</td>\n",
       "      <td>-0.034134</td>\n",
       "      <td>1.000000</td>\n",
       "      <td>0.670026</td>\n",
       "      <td>0.186829</td>\n",
       "    </tr>\n",
       "    <tr>\n",
       "      <th>Heart Rate</th>\n",
       "      <td>-0.225467</td>\n",
       "      <td>-0.225606</td>\n",
       "      <td>-0.516455</td>\n",
       "      <td>-0.659865</td>\n",
       "      <td>0.136971</td>\n",
       "      <td>0.670026</td>\n",
       "      <td>1.000000</td>\n",
       "      <td>-0.030309</td>\n",
       "    </tr>\n",
       "    <tr>\n",
       "      <th>Daily Steps</th>\n",
       "      <td>0.043844</td>\n",
       "      <td>0.057973</td>\n",
       "      <td>-0.039533</td>\n",
       "      <td>0.016791</td>\n",
       "      <td>0.772723</td>\n",
       "      <td>0.186829</td>\n",
       "      <td>-0.030309</td>\n",
       "      <td>1.000000</td>\n",
       "    </tr>\n",
       "  </tbody>\n",
       "</table>\n",
       "</div>"
      ],
      "text/plain": [
       "                         Person ID       Age  Sleep Duration  \\\n",
       "Person ID                 1.000000  0.990516        0.296305   \n",
       "Age                       0.990516  1.000000        0.344709   \n",
       "Sleep Duration            0.296305  0.344709        1.000000   \n",
       "Quality of Sleep          0.431612  0.473734        0.883213   \n",
       "Physical Activity Level   0.149882  0.178993        0.212360   \n",
       "Stress Level             -0.394287 -0.422344       -0.811023   \n",
       "Heart Rate               -0.225467 -0.225606       -0.516455   \n",
       "Daily Steps               0.043844  0.057973       -0.039533   \n",
       "\n",
       "                         Quality of Sleep  Physical Activity Level  \\\n",
       "Person ID                        0.431612                 0.149882   \n",
       "Age                              0.473734                 0.178993   \n",
       "Sleep Duration                   0.883213                 0.212360   \n",
       "Quality of Sleep                 1.000000                 0.192896   \n",
       "Physical Activity Level          0.192896                 1.000000   \n",
       "Stress Level                    -0.898752                -0.034134   \n",
       "Heart Rate                      -0.659865                 0.136971   \n",
       "Daily Steps                      0.016791                 0.772723   \n",
       "\n",
       "                         Stress Level  Heart Rate  Daily Steps  \n",
       "Person ID                   -0.394287   -0.225467     0.043844  \n",
       "Age                         -0.422344   -0.225606     0.057973  \n",
       "Sleep Duration              -0.811023   -0.516455    -0.039533  \n",
       "Quality of Sleep            -0.898752   -0.659865     0.016791  \n",
       "Physical Activity Level     -0.034134    0.136971     0.772723  \n",
       "Stress Level                 1.000000    0.670026     0.186829  \n",
       "Heart Rate                   0.670026    1.000000    -0.030309  \n",
       "Daily Steps                  0.186829   -0.030309     1.000000  "
      ]
     },
     "execution_count": 38,
     "metadata": {},
     "output_type": "execute_result"
    }
   ],
   "source": [
    "#finding the correlation between the variables\n",
    "df.corr()"
   ]
  },
  {
   "cell_type": "code",
   "execution_count": 39,
   "id": "b7a37a71",
   "metadata": {},
   "outputs": [],
   "source": [
    "#dropping of Person ID columns, since it has no effect with our output.\n",
    "\n",
    "df.drop('Person ID', axis=1, inplace=True)"
   ]
  },
  {
   "cell_type": "code",
   "execution_count": 40,
   "id": "61fdb03b",
   "metadata": {},
   "outputs": [
    {
     "data": {
      "text/html": [
       "<div>\n",
       "<style scoped>\n",
       "    .dataframe tbody tr th:only-of-type {\n",
       "        vertical-align: middle;\n",
       "    }\n",
       "\n",
       "    .dataframe tbody tr th {\n",
       "        vertical-align: top;\n",
       "    }\n",
       "\n",
       "    .dataframe thead th {\n",
       "        text-align: right;\n",
       "    }\n",
       "</style>\n",
       "<table border=\"1\" class=\"dataframe\">\n",
       "  <thead>\n",
       "    <tr style=\"text-align: right;\">\n",
       "      <th></th>\n",
       "      <th>Gender</th>\n",
       "      <th>Age</th>\n",
       "      <th>Occupation</th>\n",
       "      <th>Sleep Duration</th>\n",
       "      <th>Quality of Sleep</th>\n",
       "      <th>Physical Activity Level</th>\n",
       "      <th>Stress Level</th>\n",
       "      <th>BMI Category</th>\n",
       "      <th>Blood Pressure</th>\n",
       "      <th>Heart Rate</th>\n",
       "      <th>Daily Steps</th>\n",
       "      <th>Sleep Disorder</th>\n",
       "    </tr>\n",
       "  </thead>\n",
       "  <tbody>\n",
       "    <tr>\n",
       "      <th>0</th>\n",
       "      <td>Male</td>\n",
       "      <td>27</td>\n",
       "      <td>Software Engineer</td>\n",
       "      <td>6.1</td>\n",
       "      <td>6</td>\n",
       "      <td>42</td>\n",
       "      <td>6</td>\n",
       "      <td>Overweight</td>\n",
       "      <td>126/83</td>\n",
       "      <td>77</td>\n",
       "      <td>4200</td>\n",
       "      <td>None</td>\n",
       "    </tr>\n",
       "    <tr>\n",
       "      <th>1</th>\n",
       "      <td>Male</td>\n",
       "      <td>28</td>\n",
       "      <td>Doctor</td>\n",
       "      <td>6.2</td>\n",
       "      <td>6</td>\n",
       "      <td>60</td>\n",
       "      <td>8</td>\n",
       "      <td>Normal</td>\n",
       "      <td>125/80</td>\n",
       "      <td>75</td>\n",
       "      <td>10000</td>\n",
       "      <td>None</td>\n",
       "    </tr>\n",
       "    <tr>\n",
       "      <th>2</th>\n",
       "      <td>Male</td>\n",
       "      <td>28</td>\n",
       "      <td>Doctor</td>\n",
       "      <td>6.2</td>\n",
       "      <td>6</td>\n",
       "      <td>60</td>\n",
       "      <td>8</td>\n",
       "      <td>Normal</td>\n",
       "      <td>125/80</td>\n",
       "      <td>75</td>\n",
       "      <td>10000</td>\n",
       "      <td>None</td>\n",
       "    </tr>\n",
       "    <tr>\n",
       "      <th>3</th>\n",
       "      <td>Male</td>\n",
       "      <td>28</td>\n",
       "      <td>Sales Representative</td>\n",
       "      <td>5.9</td>\n",
       "      <td>4</td>\n",
       "      <td>30</td>\n",
       "      <td>8</td>\n",
       "      <td>Obese</td>\n",
       "      <td>140/90</td>\n",
       "      <td>85</td>\n",
       "      <td>3000</td>\n",
       "      <td>Sleep Apnea</td>\n",
       "    </tr>\n",
       "    <tr>\n",
       "      <th>4</th>\n",
       "      <td>Male</td>\n",
       "      <td>28</td>\n",
       "      <td>Sales Representative</td>\n",
       "      <td>5.9</td>\n",
       "      <td>4</td>\n",
       "      <td>30</td>\n",
       "      <td>8</td>\n",
       "      <td>Obese</td>\n",
       "      <td>140/90</td>\n",
       "      <td>85</td>\n",
       "      <td>3000</td>\n",
       "      <td>Sleep Apnea</td>\n",
       "    </tr>\n",
       "  </tbody>\n",
       "</table>\n",
       "</div>"
      ],
      "text/plain": [
       "  Gender  Age            Occupation  Sleep Duration  Quality of Sleep  \\\n",
       "0   Male   27     Software Engineer             6.1                 6   \n",
       "1   Male   28                Doctor             6.2                 6   \n",
       "2   Male   28                Doctor             6.2                 6   \n",
       "3   Male   28  Sales Representative             5.9                 4   \n",
       "4   Male   28  Sales Representative             5.9                 4   \n",
       "\n",
       "   Physical Activity Level  Stress Level BMI Category Blood Pressure  \\\n",
       "0                       42             6   Overweight         126/83   \n",
       "1                       60             8       Normal         125/80   \n",
       "2                       60             8       Normal         125/80   \n",
       "3                       30             8        Obese         140/90   \n",
       "4                       30             8        Obese         140/90   \n",
       "\n",
       "   Heart Rate  Daily Steps Sleep Disorder  \n",
       "0          77         4200           None  \n",
       "1          75        10000           None  \n",
       "2          75        10000           None  \n",
       "3          85         3000    Sleep Apnea  \n",
       "4          85         3000    Sleep Apnea  "
      ]
     },
     "execution_count": 40,
     "metadata": {},
     "output_type": "execute_result"
    }
   ],
   "source": [
    "df.head()"
   ]
  },
  {
   "cell_type": "code",
   "execution_count": 41,
   "id": "481bca4d",
   "metadata": {},
   "outputs": [
    {
     "name": "stdout",
     "output_type": "stream",
     "text": [
      "Unique values in each columns are : \n",
      "Gender 2\n",
      "Age 31\n",
      "Occupation 11\n",
      "Sleep Duration 27\n",
      "Quality of Sleep 6\n",
      "Physical Activity Level 16\n",
      "Stress Level 6\n",
      "BMI Category 4\n",
      "Blood Pressure 25\n",
      "Heart Rate 19\n",
      "Daily Steps 20\n",
      "Sleep Disorder 3\n"
     ]
    }
   ],
   "source": [
    "#checking the unique values in each column\n",
    "print(\"Unique values in each columns are : \")\n",
    "for col in df.columns:\n",
    "    print(col, df[col].nunique())\n",
    "    "
   ]
  },
  {
   "cell_type": "code",
   "execution_count": 42,
   "id": "c94e264c",
   "metadata": {},
   "outputs": [
    {
     "data": {
      "text/plain": [
       "Male      189\n",
       "Female    185\n",
       "Name: Gender, dtype: int64"
      ]
     },
     "execution_count": 42,
     "metadata": {},
     "output_type": "execute_result"
    }
   ],
   "source": [
    "df['Gender'].value_counts()"
   ]
  },
  {
   "cell_type": "code",
   "execution_count": 43,
   "id": "93c2074c",
   "metadata": {},
   "outputs": [
    {
     "data": {
      "text/plain": [
       "Male      189\n",
       "Female    185\n",
       "Name: Gender, dtype: int64"
      ]
     },
     "execution_count": 43,
     "metadata": {},
     "output_type": "execute_result"
    }
   ],
   "source": [
    "df['Gender'].value_counts()"
   ]
  },
  {
   "cell_type": "code",
   "execution_count": 44,
   "id": "c4f65549",
   "metadata": {},
   "outputs": [
    {
     "name": "stdout",
     "output_type": "stream",
     "text": [
      "Unique values in each columns are : \n",
      "Gender Male      189\n",
      "Female    185\n",
      "Name: Gender, dtype: int64\n",
      "Age 43    34\n",
      "44    30\n",
      "37    20\n",
      "38    20\n",
      "50    20\n",
      "31    18\n",
      "32    17\n",
      "53    17\n",
      "59    16\n",
      "39    15\n",
      "45    14\n",
      "33    13\n",
      "30    13\n",
      "29    13\n",
      "35    12\n",
      "36    12\n",
      "41    12\n",
      "49    11\n",
      "57     9\n",
      "52     9\n",
      "42     9\n",
      "51     8\n",
      "54     7\n",
      "58     6\n",
      "28     5\n",
      "40     4\n",
      "48     3\n",
      "55     2\n",
      "56     2\n",
      "34     2\n",
      "27     1\n",
      "Name: Age, dtype: int64\n",
      "Occupation Nurse                   73\n",
      "Doctor                  71\n",
      "Engineer                63\n",
      "Lawyer                  47\n",
      "Teacher                 40\n",
      "Accountant              37\n",
      "Salesperson             32\n",
      "Software Engineer        4\n",
      "Scientist                4\n",
      "Sales Representative     2\n",
      "Manager                  1\n",
      "Name: Occupation, dtype: int64\n",
      "Sleep Duration 7.2    36\n",
      "6.0    31\n",
      "7.8    28\n",
      "6.5    26\n",
      "6.1    25\n",
      "7.7    24\n",
      "6.6    20\n",
      "7.1    19\n",
      "8.1    15\n",
      "7.3    14\n",
      "8.4    14\n",
      "6.3    13\n",
      "8.5    13\n",
      "8.0    13\n",
      "6.2    12\n",
      "8.2    11\n",
      "7.6    10\n",
      "6.4     9\n",
      "7.9     7\n",
      "7.4     5\n",
      "6.7     5\n",
      "7.5     5\n",
      "6.8     5\n",
      "8.3     5\n",
      "5.9     4\n",
      "6.9     3\n",
      "5.8     2\n",
      "Name: Sleep Duration, dtype: int64\n",
      "Quality of Sleep 8    109\n",
      "6    105\n",
      "7     77\n",
      "9     71\n",
      "5      7\n",
      "4      5\n",
      "Name: Quality of Sleep, dtype: int64\n",
      "Physical Activity Level 60    70\n",
      "30    68\n",
      "45    68\n",
      "75    67\n",
      "90    67\n",
      "40     6\n",
      "55     6\n",
      "35     4\n",
      "50     4\n",
      "70     3\n",
      "42     2\n",
      "32     2\n",
      "80     2\n",
      "65     2\n",
      "85     2\n",
      "47     1\n",
      "Name: Physical Activity Level, dtype: int64\n",
      "Stress Level 3    71\n",
      "8    70\n",
      "4    70\n",
      "5    67\n",
      "7    50\n",
      "6    46\n",
      "Name: Stress Level, dtype: int64\n",
      "BMI Category Normal           195\n",
      "Overweight       148\n",
      "Normal Weight     21\n",
      "Obese             10\n",
      "Name: BMI Category, dtype: int64\n",
      "Blood Pressure 130/85    99\n",
      "140/95    65\n",
      "125/80    65\n",
      "120/80    45\n",
      "115/75    32\n",
      "135/90    27\n",
      "140/90     4\n",
      "125/82     4\n",
      "132/87     3\n",
      "128/85     3\n",
      "126/83     2\n",
      "115/78     2\n",
      "139/91     2\n",
      "142/92     2\n",
      "119/77     2\n",
      "135/88     2\n",
      "129/84     2\n",
      "128/84     2\n",
      "131/86     2\n",
      "117/76     2\n",
      "130/86     2\n",
      "118/75     2\n",
      "121/79     1\n",
      "122/80     1\n",
      "118/76     1\n",
      "Name: Blood Pressure, dtype: int64\n",
      "Heart Rate 68    94\n",
      "70    76\n",
      "72    69\n",
      "65    67\n",
      "75    36\n",
      "78     5\n",
      "85     3\n",
      "80     3\n",
      "84     2\n",
      "83     2\n",
      "73     2\n",
      "67     2\n",
      "74     2\n",
      "77     2\n",
      "81     2\n",
      "76     2\n",
      "69     2\n",
      "86     2\n",
      "82     1\n",
      "Name: Heart Rate, dtype: int64\n",
      "Daily Steps 8000     101\n",
      "6000      68\n",
      "5000      68\n",
      "7000      66\n",
      "10000     36\n",
      "5500       4\n",
      "3000       3\n",
      "3500       3\n",
      "4000       3\n",
      "6800       3\n",
      "4800       2\n",
      "7300       2\n",
      "7500       2\n",
      "4200       2\n",
      "3300       2\n",
      "5600       2\n",
      "5200       2\n",
      "4100       2\n",
      "3700       2\n",
      "6200       1\n",
      "Name: Daily Steps, dtype: int64\n",
      "Sleep Disorder None           219\n",
      "Sleep Apnea     78\n",
      "Insomnia        77\n",
      "Name: Sleep Disorder, dtype: int64\n"
     ]
    }
   ],
   "source": [
    "print(\"Unique values in each columns are : \")\n",
    "for col in df.columns:\n",
    "    print(col, df[col].value_counts())\n",
    "   "
   ]
  },
  {
   "cell_type": "markdown",
   "id": "af2c0814",
   "metadata": {},
   "source": [
    "# Splitting the blood pressure into systolic and diastolic"
   ]
  },
  {
   "cell_type": "code",
   "execution_count": 46,
   "id": "870d17ca",
   "metadata": {},
   "outputs": [],
   "source": [
    "#splitting the bolld pressre in to two columns\n",
    "df['systolic_bp'] = df['Blood Pressure'].apply(lambda x: x.split('/')[0])\n",
    "df['diastolic_bp'] = df['Blood Pressure'].apply(lambda x: x.split('/')[1])\n"
   ]
  },
  {
   "cell_type": "code",
   "execution_count": 47,
   "id": "7836ba06",
   "metadata": {},
   "outputs": [
    {
     "data": {
      "text/html": [
       "<div>\n",
       "<style scoped>\n",
       "    .dataframe tbody tr th:only-of-type {\n",
       "        vertical-align: middle;\n",
       "    }\n",
       "\n",
       "    .dataframe tbody tr th {\n",
       "        vertical-align: top;\n",
       "    }\n",
       "\n",
       "    .dataframe thead th {\n",
       "        text-align: right;\n",
       "    }\n",
       "</style>\n",
       "<table border=\"1\" class=\"dataframe\">\n",
       "  <thead>\n",
       "    <tr style=\"text-align: right;\">\n",
       "      <th></th>\n",
       "      <th>Gender</th>\n",
       "      <th>Age</th>\n",
       "      <th>Occupation</th>\n",
       "      <th>Sleep Duration</th>\n",
       "      <th>Quality of Sleep</th>\n",
       "      <th>Physical Activity Level</th>\n",
       "      <th>Stress Level</th>\n",
       "      <th>BMI Category</th>\n",
       "      <th>Blood Pressure</th>\n",
       "      <th>Heart Rate</th>\n",
       "      <th>Daily Steps</th>\n",
       "      <th>Sleep Disorder</th>\n",
       "      <th>systolic_bp</th>\n",
       "      <th>diastolic_bp</th>\n",
       "    </tr>\n",
       "  </thead>\n",
       "  <tbody>\n",
       "    <tr>\n",
       "      <th>0</th>\n",
       "      <td>Male</td>\n",
       "      <td>27</td>\n",
       "      <td>Software Engineer</td>\n",
       "      <td>6.1</td>\n",
       "      <td>6</td>\n",
       "      <td>42</td>\n",
       "      <td>6</td>\n",
       "      <td>Overweight</td>\n",
       "      <td>126/83</td>\n",
       "      <td>77</td>\n",
       "      <td>4200</td>\n",
       "      <td>None</td>\n",
       "      <td>126</td>\n",
       "      <td>83</td>\n",
       "    </tr>\n",
       "    <tr>\n",
       "      <th>1</th>\n",
       "      <td>Male</td>\n",
       "      <td>28</td>\n",
       "      <td>Doctor</td>\n",
       "      <td>6.2</td>\n",
       "      <td>6</td>\n",
       "      <td>60</td>\n",
       "      <td>8</td>\n",
       "      <td>Normal</td>\n",
       "      <td>125/80</td>\n",
       "      <td>75</td>\n",
       "      <td>10000</td>\n",
       "      <td>None</td>\n",
       "      <td>125</td>\n",
       "      <td>80</td>\n",
       "    </tr>\n",
       "    <tr>\n",
       "      <th>2</th>\n",
       "      <td>Male</td>\n",
       "      <td>28</td>\n",
       "      <td>Doctor</td>\n",
       "      <td>6.2</td>\n",
       "      <td>6</td>\n",
       "      <td>60</td>\n",
       "      <td>8</td>\n",
       "      <td>Normal</td>\n",
       "      <td>125/80</td>\n",
       "      <td>75</td>\n",
       "      <td>10000</td>\n",
       "      <td>None</td>\n",
       "      <td>125</td>\n",
       "      <td>80</td>\n",
       "    </tr>\n",
       "    <tr>\n",
       "      <th>3</th>\n",
       "      <td>Male</td>\n",
       "      <td>28</td>\n",
       "      <td>Sales Representative</td>\n",
       "      <td>5.9</td>\n",
       "      <td>4</td>\n",
       "      <td>30</td>\n",
       "      <td>8</td>\n",
       "      <td>Obese</td>\n",
       "      <td>140/90</td>\n",
       "      <td>85</td>\n",
       "      <td>3000</td>\n",
       "      <td>Sleep Apnea</td>\n",
       "      <td>140</td>\n",
       "      <td>90</td>\n",
       "    </tr>\n",
       "    <tr>\n",
       "      <th>4</th>\n",
       "      <td>Male</td>\n",
       "      <td>28</td>\n",
       "      <td>Sales Representative</td>\n",
       "      <td>5.9</td>\n",
       "      <td>4</td>\n",
       "      <td>30</td>\n",
       "      <td>8</td>\n",
       "      <td>Obese</td>\n",
       "      <td>140/90</td>\n",
       "      <td>85</td>\n",
       "      <td>3000</td>\n",
       "      <td>Sleep Apnea</td>\n",
       "      <td>140</td>\n",
       "      <td>90</td>\n",
       "    </tr>\n",
       "  </tbody>\n",
       "</table>\n",
       "</div>"
      ],
      "text/plain": [
       "  Gender  Age            Occupation  Sleep Duration  Quality of Sleep  \\\n",
       "0   Male   27     Software Engineer             6.1                 6   \n",
       "1   Male   28                Doctor             6.2                 6   \n",
       "2   Male   28                Doctor             6.2                 6   \n",
       "3   Male   28  Sales Representative             5.9                 4   \n",
       "4   Male   28  Sales Representative             5.9                 4   \n",
       "\n",
       "   Physical Activity Level  Stress Level BMI Category Blood Pressure  \\\n",
       "0                       42             6   Overweight         126/83   \n",
       "1                       60             8       Normal         125/80   \n",
       "2                       60             8       Normal         125/80   \n",
       "3                       30             8        Obese         140/90   \n",
       "4                       30             8        Obese         140/90   \n",
       "\n",
       "   Heart Rate  Daily Steps Sleep Disorder systolic_bp diastolic_bp  \n",
       "0          77         4200           None         126           83  \n",
       "1          75        10000           None         125           80  \n",
       "2          75        10000           None         125           80  \n",
       "3          85         3000    Sleep Apnea         140           90  \n",
       "4          85         3000    Sleep Apnea         140           90  "
      ]
     },
     "execution_count": 47,
     "metadata": {},
     "output_type": "execute_result"
    }
   ],
   "source": [
    "df.head()"
   ]
  },
  {
   "cell_type": "code",
   "execution_count": 48,
   "id": "57151c14",
   "metadata": {},
   "outputs": [],
   "source": [
    "df.drop('Blood Pressure', axis=1, inplace=True)"
   ]
  },
  {
   "cell_type": "code",
   "execution_count": 49,
   "id": "ae30eaf1",
   "metadata": {},
   "outputs": [
    {
     "data": {
      "text/html": [
       "<div>\n",
       "<style scoped>\n",
       "    .dataframe tbody tr th:only-of-type {\n",
       "        vertical-align: middle;\n",
       "    }\n",
       "\n",
       "    .dataframe tbody tr th {\n",
       "        vertical-align: top;\n",
       "    }\n",
       "\n",
       "    .dataframe thead th {\n",
       "        text-align: right;\n",
       "    }\n",
       "</style>\n",
       "<table border=\"1\" class=\"dataframe\">\n",
       "  <thead>\n",
       "    <tr style=\"text-align: right;\">\n",
       "      <th></th>\n",
       "      <th>Gender</th>\n",
       "      <th>Age</th>\n",
       "      <th>Occupation</th>\n",
       "      <th>Sleep Duration</th>\n",
       "      <th>Quality of Sleep</th>\n",
       "      <th>Physical Activity Level</th>\n",
       "      <th>Stress Level</th>\n",
       "      <th>BMI Category</th>\n",
       "      <th>Heart Rate</th>\n",
       "      <th>Daily Steps</th>\n",
       "      <th>Sleep Disorder</th>\n",
       "      <th>systolic_bp</th>\n",
       "      <th>diastolic_bp</th>\n",
       "    </tr>\n",
       "  </thead>\n",
       "  <tbody>\n",
       "    <tr>\n",
       "      <th>0</th>\n",
       "      <td>Male</td>\n",
       "      <td>27</td>\n",
       "      <td>Software Engineer</td>\n",
       "      <td>6.1</td>\n",
       "      <td>6</td>\n",
       "      <td>42</td>\n",
       "      <td>6</td>\n",
       "      <td>Overweight</td>\n",
       "      <td>77</td>\n",
       "      <td>4200</td>\n",
       "      <td>None</td>\n",
       "      <td>126</td>\n",
       "      <td>83</td>\n",
       "    </tr>\n",
       "    <tr>\n",
       "      <th>1</th>\n",
       "      <td>Male</td>\n",
       "      <td>28</td>\n",
       "      <td>Doctor</td>\n",
       "      <td>6.2</td>\n",
       "      <td>6</td>\n",
       "      <td>60</td>\n",
       "      <td>8</td>\n",
       "      <td>Normal</td>\n",
       "      <td>75</td>\n",
       "      <td>10000</td>\n",
       "      <td>None</td>\n",
       "      <td>125</td>\n",
       "      <td>80</td>\n",
       "    </tr>\n",
       "    <tr>\n",
       "      <th>2</th>\n",
       "      <td>Male</td>\n",
       "      <td>28</td>\n",
       "      <td>Doctor</td>\n",
       "      <td>6.2</td>\n",
       "      <td>6</td>\n",
       "      <td>60</td>\n",
       "      <td>8</td>\n",
       "      <td>Normal</td>\n",
       "      <td>75</td>\n",
       "      <td>10000</td>\n",
       "      <td>None</td>\n",
       "      <td>125</td>\n",
       "      <td>80</td>\n",
       "    </tr>\n",
       "    <tr>\n",
       "      <th>3</th>\n",
       "      <td>Male</td>\n",
       "      <td>28</td>\n",
       "      <td>Sales Representative</td>\n",
       "      <td>5.9</td>\n",
       "      <td>4</td>\n",
       "      <td>30</td>\n",
       "      <td>8</td>\n",
       "      <td>Obese</td>\n",
       "      <td>85</td>\n",
       "      <td>3000</td>\n",
       "      <td>Sleep Apnea</td>\n",
       "      <td>140</td>\n",
       "      <td>90</td>\n",
       "    </tr>\n",
       "    <tr>\n",
       "      <th>4</th>\n",
       "      <td>Male</td>\n",
       "      <td>28</td>\n",
       "      <td>Sales Representative</td>\n",
       "      <td>5.9</td>\n",
       "      <td>4</td>\n",
       "      <td>30</td>\n",
       "      <td>8</td>\n",
       "      <td>Obese</td>\n",
       "      <td>85</td>\n",
       "      <td>3000</td>\n",
       "      <td>Sleep Apnea</td>\n",
       "      <td>140</td>\n",
       "      <td>90</td>\n",
       "    </tr>\n",
       "  </tbody>\n",
       "</table>\n",
       "</div>"
      ],
      "text/plain": [
       "  Gender  Age            Occupation  Sleep Duration  Quality of Sleep  \\\n",
       "0   Male   27     Software Engineer             6.1                 6   \n",
       "1   Male   28                Doctor             6.2                 6   \n",
       "2   Male   28                Doctor             6.2                 6   \n",
       "3   Male   28  Sales Representative             5.9                 4   \n",
       "4   Male   28  Sales Representative             5.9                 4   \n",
       "\n",
       "   Physical Activity Level  Stress Level BMI Category  Heart Rate  \\\n",
       "0                       42             6   Overweight          77   \n",
       "1                       60             8       Normal          75   \n",
       "2                       60             8       Normal          75   \n",
       "3                       30             8        Obese          85   \n",
       "4                       30             8        Obese          85   \n",
       "\n",
       "   Daily Steps Sleep Disorder systolic_bp diastolic_bp  \n",
       "0         4200           None         126           83  \n",
       "1        10000           None         125           80  \n",
       "2        10000           None         125           80  \n",
       "3         3000    Sleep Apnea         140           90  \n",
       "4         3000    Sleep Apnea         140           90  "
      ]
     },
     "execution_count": 49,
     "metadata": {},
     "output_type": "execute_result"
    }
   ],
   "source": [
    "df.head()"
   ]
  },
  {
   "cell_type": "code",
   "execution_count": 50,
   "id": "d09f5e3b",
   "metadata": {},
   "outputs": [
    {
     "data": {
      "text/plain": [
       "Normal           195\n",
       "Overweight       148\n",
       "Normal Weight     21\n",
       "Obese             10\n",
       "Name: BMI Category, dtype: int64"
      ]
     },
     "execution_count": 50,
     "metadata": {},
     "output_type": "execute_result"
    }
   ],
   "source": [
    "df['BMI Category'].value_counts()"
   ]
  },
  {
   "cell_type": "code",
   "execution_count": 55,
   "id": "2c1519c9",
   "metadata": {},
   "outputs": [],
   "source": [
    "#replacing normal weight with normal in BMI column\n",
    "df['BMI Category'] = df['BMI Category'].replace('Normal Weight', 'Normal')\n"
   ]
  },
  {
   "cell_type": "code",
   "execution_count": 56,
   "id": "e2826bbe",
   "metadata": {},
   "outputs": [
    {
     "data": {
      "text/plain": [
       "Normal        216\n",
       "Overweight    148\n",
       "Obese          10\n",
       "Name: BMI Category, dtype: int64"
      ]
     },
     "execution_count": 56,
     "metadata": {},
     "output_type": "execute_result"
    }
   ],
   "source": [
    "df['BMI Category'].value_counts()"
   ]
  },
  {
   "cell_type": "code",
   "execution_count": 59,
   "id": "1c47e216",
   "metadata": {},
   "outputs": [
    {
     "name": "stdout",
     "output_type": "stream",
     "text": [
      "['Software Engineer' 'Doctor' 'Sales Representative' 'Teacher' 'Nurse'\n",
      " 'Engineer' 'Accountant' 'Scientist' 'Lawyer' 'Salesperson' 'Manager']\n",
      "\n",
      "\n",
      "['Overweight' 'Normal' 'Obese']\n",
      "\n",
      "\n",
      "['None' 'Sleep Apnea' 'Insomnia']\n"
     ]
    }
   ],
   "source": [
    "#unique values from categorical columns\n",
    "print(df.Occupation.unique())\n",
    "print('\\n')\n",
    "print(df['BMI Category'].unique())\n",
    "print('\\n')\n",
    "print(df['Sleep Disorder'].unique())"
   ]
  },
  {
   "cell_type": "markdown",
   "id": "279f0314",
   "metadata": {},
   "source": [
    "# Explorative Data Analysis\n",
    "The EDA is divided into two phases:\n",
    "\n",
    "Phase 1: Understanding the data by plotting its variables\n",
    "\n",
    "Phase 2: Understanding the correlation between the variables\n",
    "\n"
   ]
  },
  {
   "cell_type": "markdown",
   "id": "03c395a5",
   "metadata": {},
   "source": [
    "Phase 1"
   ]
  },
  {
   "cell_type": "code",
   "execution_count": 60,
   "id": "6867b2c2",
   "metadata": {},
   "outputs": [
    {
     "data": {
      "text/plain": [
       "<AxesSubplot:xlabel='Sleep Disorder', ylabel='count'>"
      ]
     },
     "execution_count": 60,
     "metadata": {},
     "output_type": "execute_result"
    },
    {
     "data": {
      "image/png": "[encoded data removed]",
      "text/plain": [
       "<Figure size 1440x720 with 9 Axes>"
      ]
     },
     "metadata": {
      "needs_background": "light"
     },
     "output_type": "display_data"
    }
   ],
   "source": [
    "fig,ax = plt.subplots(3,3,figsize=(20,10))\n",
    "sns.countplot(x = 'Gender', data = df, ax = ax[0,0])\n",
    "sns.histplot(x = 'Age', data = df, ax = ax[0,1], bins = 10)\n",
    "sns.histplot(x = 'Sleep Duration', data = df, ax = ax[0,2], bins = 10)\n",
    "sns.countplot(x = 'Quality of Sleep', data = df, ax = ax[1,0])\n",
    "sns.histplot(x = 'Physical Activity Level', data = df, ax = ax[1,1], bins = 10)\n",
    "sns.countplot(x = 'Stress Level', data = df, ax = ax[1,2])\n",
    "sns.countplot(x = 'BMI Category', data = df, ax = ax[2,0])\n",
    "sns.histplot(x = 'Daily Steps', data = df, ax = ax[2,1], bins = 10)\n",
    "sns.countplot(x = 'Sleep Disorder', data = df, ax = ax[2,2])"
   ]
  },
  {
   "cell_type": "raw",
   "id": "4aecc3e5",
   "metadata": {},
   "source": [
    "Observation:\n",
    "The number of males and females is almost equal, out of which majority of the people have age between 30-45 years. \n",
    "Most of the people have sleep quality greater than 5 which means there are getting sufficient sleep. \n",
    "Moreover, most of the people have normal BMI whci directly relates with the distribution of sleep disorder which shows equal number of people with and without sleep disorder.\n",
    "\n"
   ]
  },
  {
   "cell_type": "markdown",
   "id": "dc686dca",
   "metadata": {},
   "source": [
    "# Phase 2\n"
   ]
  },
  {
   "cell_type": "markdown",
   "id": "67ec6ce6",
   "metadata": {},
   "source": [
    "# Gender and Sleep Disorder\n"
   ]
  },
  {
   "cell_type": "code",
   "execution_count": 62,
   "id": "f340818d",
   "metadata": {},
   "outputs": [
    {
     "data": {
      "text/plain": [
       "Text(0.5, 1.0, 'Gender and Sleep Disorder')"
      ]
     },
     "execution_count": 62,
     "metadata": {},
     "output_type": "execute_result"
    },
    {
     "data": {
      "image/png": "[encoded data removed]",
      "text/plain": [
       "<Figure size 432x288 with 1 Axes>"
      ]
     },
     "metadata": {
      "needs_background": "light"
     },
     "output_type": "display_data"
    }
   ],
   "source": [
    "#Gender count plot\n",
    "sns.countplot(x = 'Gender', data = df, palette = 'hls', hue = 'Sleep Disorder').set_title('Gender and Sleep Disorder')\n"
   ]
  },
  {
   "cell_type": "raw",
   "id": "a4cde5fc",
   "metadata": {},
   "source": [
    "Observation:\n",
    "Most of the males and females are not suffering from any sleep disorder. However females tend to have more sleep disorder as compared to males. The number of females suffering from Sleep Apnea is quite high as compared to males. But in contrast to that, greater number of males are suffering from Insomia as compared to females.\n",
    "\n"
   ]
  },
  {
   "cell_type": "markdown",
   "id": "6d971b4b",
   "metadata": {},
   "source": [
    "# Effect of Occupation on Sleep Disorder"
   ]
  },
  {
   "cell_type": "code",
   "execution_count": 63,
   "id": "eaa5f52f",
   "metadata": {},
   "outputs": [
    {
     "data": {
      "text/plain": [
       "[Text(0, 0, 'Software Engineer'),\n",
       " Text(1, 0, 'Doctor'),\n",
       " Text(2, 0, 'Sales Representative'),\n",
       " Text(3, 0, 'Teacher'),\n",
       " Text(4, 0, 'Nurse'),\n",
       " Text(5, 0, 'Engineer'),\n",
       " Text(6, 0, 'Accountant'),\n",
       " Text(7, 0, 'Scientist'),\n",
       " Text(8, 0, 'Lawyer'),\n",
       " Text(9, 0, 'Salesperson'),\n",
       " Text(10, 0, 'Manager')]"
      ]
     },
     "execution_count": 63,
     "metadata": {},
     "output_type": "execute_result"
    },
    {
     "data": {
      "image/png": "[encoded data removed]",
      "text/plain": [
       "<Figure size 432x288 with 1 Axes>"
      ]
     },
     "metadata": {
      "needs_background": "light"
     },
     "output_type": "display_data"
    }
   ],
   "source": [
    "ax = sns.countplot(x = 'Occupation', data = df, hue = 'Sleep Disorder')\n",
    "ax.set_xticklabels(ax.get_xticklabels(), rotation = 90)"
   ]
  },
  {
   "cell_type": "raw",
   "id": "271ab24f",
   "metadata": {},
   "source": [
    "From the graph it is clear that the occupation has huge impact on the sleep disorder. Nurses are more subjected to have Sleep Apenea as compared to other occupations and very few of them have no sleep disorder. After nurses, the next most affected occupation is the Salesperson, which counts for the most suffering from Insomia followed by teachers. However there are some occupations where most of the people have very few instance of Sleep Apenea and Insomia such as Engineers, Doctors, Accountants, Lawyers. The Software ENgineers and Managers are so less in number so I cannot say much about that, But the occupation Sales Representative has shown only Sleep Apenea and no Insomia or No sleep disorder.\n",
    "\n"
   ]
  },
  {
   "cell_type": "markdown",
   "id": "072fd6c7",
   "metadata": {},
   "source": [
    "# BMI and Sleep Disorder"
   ]
  },
  {
   "cell_type": "code",
   "execution_count": 64,
   "id": "bac51eed",
   "metadata": {},
   "outputs": [
    {
     "data": {
      "text/plain": [
       "Text(0.5, 1.0, 'BMI Category and Sleep Disorder')"
      ]
     },
     "execution_count": 64,
     "metadata": {},
     "output_type": "execute_result"
    },
    {
     "data": {
      "image/png": "[encoded data removed]",
      "text/plain": [
       "<Figure size 432x288 with 1 Axes>"
      ]
     },
     "metadata": {
      "needs_background": "light"
     },
     "output_type": "display_data"
    }
   ],
   "source": [
    "sns.countplot(x = 'BMI Category', hue = 'Sleep Disorder', data = df, palette = 'Set1').set_title('BMI Category and Sleep Disorder')\n"
   ]
  },
  {
   "cell_type": "raw",
   "id": "28a1f58b",
   "metadata": {},
   "source": [
    "Observation:\n",
    "People with normal BMI are less likely to suffer from any sleep disorder. However, this is opposite in case of Overweight and Obese people. Overweight are more likely to suffer more from sleep disordera than Obese people.\n",
    "\n"
   ]
  },
  {
   "cell_type": "markdown",
   "id": "726b0fde",
   "metadata": {},
   "source": [
    "# Data Preprocessing Part 2"
   ]
  },
  {
   "cell_type": "markdown",
   "id": "f256b1b2",
   "metadata": {},
   "source": [
    "# Label Encoding for categorical variables"
   ]
  },
  {
   "cell_type": "code",
   "execution_count": 65,
   "id": "37d45be6",
   "metadata": {},
   "outputs": [],
   "source": [
    "from sklearn import preprocessing\n",
    "label_encoder = preprocessing.LabelEncoder()\n"
   ]
  },
  {
   "cell_type": "code",
   "execution_count": 66,
   "id": "4a7ed870",
   "metadata": {},
   "outputs": [
    {
     "name": "stdout",
     "output_type": "stream",
     "text": [
      "Gender : [1 0]\n",
      "Occupation : [ 9  1  6 10  5  2  0  8  3  7  4]\n",
      "BMI Category : [2 0 1]\n",
      "Sleep Disorder : [1 2 0]\n"
     ]
    }
   ],
   "source": [
    "vars = ['Gender', 'Occupation','BMI Category','Sleep Disorder']\n",
    "for i in vars:\n",
    "    label_encoder.fit(df[i].unique())\n",
    "    df[i] = label_encoder.transform(df[i])\n",
    "    print(i,':' ,df[i].unique())"
   ]
  },
  {
   "cell_type": "markdown",
   "id": "9405fc69",
   "metadata": {},
   "source": [
    "# Correlation Matrix Heatmap"
   ]
  },
  {
   "cell_type": "code",
   "execution_count": 67,
   "id": "9a6951df",
   "metadata": {},
   "outputs": [
    {
     "data": {
      "text/plain": [
       "<AxesSubplot:>"
      ]
     },
     "execution_count": 67,
     "metadata": {},
     "output_type": "execute_result"
    },
    {
     "data": {
      "image/png": "[encoded data removed]",
      "text/plain": [
       "<Figure size 1440x1152 with 2 Axes>"
      ]
     },
     "metadata": {
      "needs_background": "light"
     },
     "output_type": "display_data"
    }
   ],
   "source": [
    "#Correlation Matrix Heatmap\n",
    "plt.figure(figsize=(20, 16))\n",
    "sns.heatmap(df.corr(), annot = True, cmap = 'coolwarm')\n"
   ]
  },
  {
   "cell_type": "markdown",
   "id": "3006688b",
   "metadata": {},
   "source": [
    "# Train Test Split"
   ]
  },
  {
   "cell_type": "code",
   "execution_count": 68,
   "id": "0f3114af",
   "metadata": {},
   "outputs": [],
   "source": [
    "x = df.drop('Sleep Disorder', axis =1)\n",
    "y = df['Sleep Disorder']"
   ]
  },
  {
   "cell_type": "code",
   "execution_count": 69,
   "id": "aa38945d",
   "metadata": {},
   "outputs": [],
   "source": [
    "from sklearn.model_selection import train_test_split\n",
    "x_train, x_test, y_train, y_test = train_test_split(x, y, test_size=0.3, random_state=42)\n"
   ]
  },
  {
   "cell_type": "markdown",
   "id": "0874bc0f",
   "metadata": {},
   "source": [
    "# Model Building\n",
    "For predictiong the sleep disorder thriugh classification algorithms I will use the following algorithms:\n",
    "\n",
    "Decision Tree Classifier\n",
    "\n",
    "Random Forest Classifier"
   ]
  },
  {
   "cell_type": "markdown",
   "id": "71282767",
   "metadata": {},
   "source": [
    "# Decision Tree Classifier"
   ]
  },
  {
   "cell_type": "code",
   "execution_count": 70,
   "id": "94136916",
   "metadata": {},
   "outputs": [
    {
     "data": {
      "text/plain": [
       "DecisionTreeClassifier()"
      ]
     },
     "execution_count": 70,
     "metadata": {},
     "output_type": "execute_result"
    }
   ],
   "source": [
    "from sklearn.tree import DecisionTreeClassifier\n",
    "dtree = DecisionTreeClassifier()\n",
    "dtree"
   ]
  },
  {
   "cell_type": "markdown",
   "id": "0452993f",
   "metadata": {},
   "source": [
    "# Training the model with train dataset\n",
    "\n"
   ]
  },
  {
   "cell_type": "code",
   "execution_count": 71,
   "id": "5b49fe59",
   "metadata": {},
   "outputs": [
    {
     "data": {
      "text/plain": [
       "DecisionTreeClassifier()"
      ]
     },
     "execution_count": 71,
     "metadata": {},
     "output_type": "execute_result"
    }
   ],
   "source": [
    "dtree.fit(x_train, y_train)\n"
   ]
  },
  {
   "cell_type": "code",
   "execution_count": 72,
   "id": "d21c5f42",
   "metadata": {},
   "outputs": [
    {
     "name": "stdout",
     "output_type": "stream",
     "text": [
      "Training Accuracy: 0.9348659003831418\n"
     ]
    }
   ],
   "source": [
    "#training accuracy\n",
    "print(\"Training Accuracy:\",dtree.score(x_train,y_train))"
   ]
  },
  {
   "cell_type": "markdown",
   "id": "d90ee19a",
   "metadata": {},
   "source": [
    "# Decision Tree Model Evalution"
   ]
  },
  {
   "cell_type": "code",
   "execution_count": 73,
   "id": "d520deab",
   "metadata": {},
   "outputs": [],
   "source": [
    "d_pred = dtree.predict(x_test)\n"
   ]
  },
  {
   "cell_type": "code",
   "execution_count": 74,
   "id": "2106f42e",
   "metadata": {},
   "outputs": [
    {
     "data": {
      "text/plain": [
       "array([1, 1, 1, 1, 1, 0, 1, 1, 1, 1, 0, 1, 1, 1, 1, 2, 1, 0, 1, 1, 1, 1,\n",
       "       1, 0, 0, 1, 0, 0, 0, 2, 1, 1, 1, 2, 2, 1, 1, 1, 1, 1, 0, 2, 0, 0,\n",
       "       1, 1, 1, 1, 2, 1, 2, 2, 2, 1, 0, 2, 0, 2, 2, 1, 1, 0, 1, 1, 0, 1,\n",
       "       0, 1, 1, 1, 1, 0, 1, 2, 2, 0, 1, 1, 2, 0, 1, 2, 1, 1, 1, 2, 0, 2,\n",
       "       1, 1, 1, 1, 1, 1, 0, 0, 1, 1, 0, 1, 1, 0, 2, 0, 1, 1, 0, 2, 1, 1,\n",
       "       2, 1, 0])"
      ]
     },
     "execution_count": 74,
     "metadata": {},
     "output_type": "execute_result"
    }
   ],
   "source": [
    "d_pred"
   ]
  },
  {
   "cell_type": "raw",
   "id": "a29995a2",
   "metadata": {},
   "source": [
    "Using Confusion matrix heatmap to visualize the model accuracy\n",
    "\n"
   ]
  },
  {
   "cell_type": "code",
   "execution_count": 75,
   "id": "b429e22c",
   "metadata": {},
   "outputs": [
    {
     "data": {
      "image/png": "[encoded data removed]",
      "text/plain": [
       "<Figure size 432x288 with 2 Axes>"
      ]
     },
     "metadata": {
      "needs_background": "light"
     },
     "output_type": "display_data"
    }
   ],
   "source": [
    "from sklearn.metrics import confusion_matrix\n",
    "sns.heatmap(confusion_matrix(y_test, d_pred), annot=True, cmap='Blues', fmt='g')\n",
    "plt.title('Confusion Matrix')\n",
    "plt.xlabel('Actual')\n",
    "plt.ylabel('Predicted')\n",
    "plt.show()"
   ]
  },
  {
   "cell_type": "raw",
   "id": "a64d977f",
   "metadata": {},
   "source": [
    "Findings:\n",
    "The diagonal boxes show the count of true positive results, i.e correct predictions made by the model. The off-diagonal boxes show the count of false positive results, i.e incorrect predictions made by the model.\n",
    "\n"
   ]
  },
  {
   "cell_type": "markdown",
   "id": "a83a87bc",
   "metadata": {},
   "source": [
    "# Dsitribution plot for predicted and actual values"
   ]
  },
  {
   "cell_type": "code",
   "execution_count": 76,
   "id": "8a4b6f8e",
   "metadata": {},
   "outputs": [
    {
     "data": {
      "image/png": "[encoded data removed]",
      "text/plain": [
       "<Figure size 432x288 with 1 Axes>"
      ]
     },
     "metadata": {
      "needs_background": "light"
     },
     "output_type": "display_data"
    }
   ],
   "source": [
    "ax = sns.distplot(y_test, hist=False, color=\"r\", label=\"Actual Value\")\n",
    "sns.distplot(d_pred, hist=False, color=\"b\", label=\"Fitted Values\" , ax=ax)\n",
    "plt.title('Actual vs Fitted Values for Sleep Disorder Prediction')\n",
    "plt.xlabel('Sleep Disorder')\n",
    "plt.ylabel('Proportion of People')\n",
    "plt.show()"
   ]
  },
  {
   "cell_type": "raw",
   "id": "1baf164a",
   "metadata": {},
   "source": [
    "Observation:\n",
    "The actual values are represented with red and the predicted ones with blue. As shown in the graph, the model's prediction are able to follow the curve of actual values but the predicted values are still different from actual ones. Therefore the model is not able to predict the values accurately.\n",
    "\n"
   ]
  },
  {
   "cell_type": "raw",
   "id": "2b824fb1",
   "metadata": {},
   "source": [
    "Classification Report"
   ]
  },
  {
   "cell_type": "code",
   "execution_count": 77,
   "id": "bf740fdc",
   "metadata": {},
   "outputs": [
    {
     "name": "stdout",
     "output_type": "stream",
     "text": [
      "              precision    recall  f1-score   support\n",
      "\n",
      "           0       0.74      0.83      0.78        24\n",
      "           1       0.91      0.95      0.93        62\n",
      "           2       0.90      0.70      0.79        27\n",
      "\n",
      "    accuracy                           0.87       113\n",
      "   macro avg       0.85      0.83      0.84       113\n",
      "weighted avg       0.87      0.87      0.87       113\n",
      "\n"
     ]
    }
   ],
   "source": [
    "from sklearn.metrics import classification_report\n",
    "print(classification_report(y_test, d_pred))"
   ]
  },
  {
   "cell_type": "raw",
   "id": "0718c75d",
   "metadata": {},
   "source": [
    "The model gives pretty decent results with an accuracy of 87% and an average F1 score of 0.83. The model is able to predict the sleep disorder with a good accuracy.\n",
    "\n"
   ]
  },
  {
   "cell_type": "code",
   "execution_count": 78,
   "id": "94b620a8",
   "metadata": {},
   "outputs": [],
   "source": [
    "from sklearn.ensemble import RandomForestClassifier\n",
    "rfc = RandomForestClassifier(n_estimators=100, random_state=42)"
   ]
  },
  {
   "cell_type": "code",
   "execution_count": 79,
   "id": "fddc47a3",
   "metadata": {},
   "outputs": [
    {
     "data": {
      "text/plain": [
       "RandomForestClassifier(random_state=42)"
      ]
     },
     "execution_count": 79,
     "metadata": {},
     "output_type": "execute_result"
    }
   ],
   "source": [
    "rfc.fit(x_train, y_train)"
   ]
  },
  {
   "cell_type": "code",
   "execution_count": 81,
   "id": "6329ca2f",
   "metadata": {},
   "outputs": [
    {
     "name": "stdout",
     "output_type": "stream",
     "text": [
      "Training accuracy:  0.9348659003831418\n"
     ]
    }
   ],
   "source": [
    "#Training accuracy\n",
    "print(\"Training accuracy: \",rfc.score(x_train,y_train))"
   ]
  },
  {
   "cell_type": "markdown",
   "id": "4af624e2",
   "metadata": {},
   "source": [
    "# Random Forest Classifier Evaluation"
   ]
  },
  {
   "cell_type": "code",
   "execution_count": 82,
   "id": "04d3c11e",
   "metadata": {},
   "outputs": [
    {
     "data": {
      "text/plain": [
       "array([1, 1, 1, 1, 1, 0, 1, 1, 1, 1, 0, 1, 1, 1, 1, 2, 1, 0, 1, 1, 1, 1,\n",
       "       1, 0, 0, 1, 0, 0, 0, 2, 1, 1, 1, 2, 2, 1, 1, 1, 1, 1, 0, 2, 0, 0,\n",
       "       1, 1, 1, 1, 2, 1, 2, 0, 2, 1, 0, 2, 0, 2, 2, 1, 1, 0, 1, 1, 0, 1,\n",
       "       0, 1, 1, 1, 1, 0, 1, 2, 2, 0, 1, 1, 2, 0, 1, 2, 1, 1, 1, 2, 1, 2,\n",
       "       1, 1, 2, 1, 1, 1, 0, 0, 1, 1, 0, 1, 1, 1, 2, 0, 1, 2, 0, 2, 1, 1,\n",
       "       2, 1, 0])"
      ]
     },
     "execution_count": 82,
     "metadata": {},
     "output_type": "execute_result"
    }
   ],
   "source": [
    "rfc_pred = rfc.predict(x_test)\n",
    "rfc_pred"
   ]
  },
  {
   "cell_type": "raw",
   "id": "7f3a1c3b",
   "metadata": {},
   "source": [
    "Using confusion matrix heatmap to visualize the model accuracy\n",
    "\n"
   ]
  },
  {
   "cell_type": "code",
   "execution_count": 83,
   "id": "c13823c1",
   "metadata": {},
   "outputs": [
    {
     "data": {
      "image/png": "[encoded data removed]",
      "text/plain": [
       "<Figure size 432x288 with 2 Axes>"
      ]
     },
     "metadata": {
      "needs_background": "light"
     },
     "output_type": "display_data"
    }
   ],
   "source": [
    "#confusion matrix heatmap\n",
    "sns.heatmap(confusion_matrix(y_test, rfc_pred), annot=True, cmap='Blues')\n",
    "plt.title('Confusion Matrix')\n",
    "plt.xlabel('Predicted')\n",
    "plt.ylabel('Actual')\n",
    "plt.show()"
   ]
  },
  {
   "cell_type": "raw",
   "id": "8194949c",
   "metadata": {},
   "source": [
    "Observation:\n",
    "The Random Forest Classifier model has greater accuracy than the Decision Tree Classifier model. \n",
    "The diagonal boxes count for the True Positives i.e correct predictions, \n",
    "whereas the off-diagonal boxes show the count of false positive results, i.e incorrect predictions made by the model. \n",
    "Since the number of false positve value is less, it shows that the model is good at predicting the correct results.\n",
    "\n"
   ]
  },
  {
   "cell_type": "markdown",
   "id": "b5d3206c",
   "metadata": {},
   "source": [
    "# Distribution plot for predicted and acutal values"
   ]
  },
  {
   "cell_type": "code",
   "execution_count": 84,
   "id": "78f1201d",
   "metadata": {},
   "outputs": [
    {
     "data": {
      "image/png": "[encoded data removed]",
      "text/plain": [
       "<Figure size 432x288 with 1 Axes>"
      ]
     },
     "metadata": {
      "needs_background": "light"
     },
     "output_type": "display_data"
    }
   ],
   "source": [
    "ax = sns.distplot(y_test, hist=False, color=\"r\", label=\"Actual Value\")\n",
    "sns.distplot(rfc_pred, hist=False, color=\"b\", label=\"Predicted Values\" , ax=ax)\n",
    "plt.title('Actual vs Predicted values for Sleep Disorder')\n",
    "plt.xlabel('Sleep Disorder')\n",
    "plt.ylabel('Proportion of Patients')\n",
    "plt.show()"
   ]
  },
  {
   "cell_type": "raw",
   "id": "a773bbe5",
   "metadata": {},
   "source": [
    "Observation:\n",
    "The Random forest classifier has improved accuracy as compared to the Decision Tree which is shown with the gap between the actual and predcited values which was wider incase of Descision Tree Classifier.\n",
    "\n"
   ]
  },
  {
   "cell_type": "markdown",
   "id": "bc1da2a3",
   "metadata": {},
   "source": [
    "# Classification Report"
   ]
  },
  {
   "cell_type": "code",
   "execution_count": 85,
   "id": "68e3e26d",
   "metadata": {},
   "outputs": [
    {
     "name": "stdout",
     "output_type": "stream",
     "text": [
      "              precision    recall  f1-score   support\n",
      "\n",
      "           0       0.77      0.83      0.80        24\n",
      "           1       0.94      0.98      0.96        62\n",
      "           2       0.91      0.74      0.82        27\n",
      "\n",
      "    accuracy                           0.89       113\n",
      "   macro avg       0.87      0.85      0.86       113\n",
      "weighted avg       0.90      0.89      0.89       113\n",
      "\n"
     ]
    }
   ],
   "source": [
    "print(classification_report(y_test, rfc_pred))\n"
   ]
  },
  {
   "cell_type": "raw",
   "id": "c253bf54",
   "metadata": {},
   "source": [
    "Observation:\n",
    "The Random Forest Classifier model has an accuracy of 89% and an avergae F1 score of 0.86. From the metrics it is quite clear that the model is able to predict the sleep disorder quite effectively, with increased accuracy than Decision Tree Classifer.\n",
    "\n"
   ]
  },
  {
   "cell_type": "markdown",
   "id": "adfab72b",
   "metadata": {},
   "source": [
    "# Conclusion\n",
    "From the exploratory data analysis, we can conclude that the sleep orders depends upon three main factors that are gender, occupation and BMI of the patient. \n",
    "\n",
    "The males have more instance of Insomia whereas femlaes have more instances of Sleep Apnea. \n",
    "In addition the that people with occupation such as nurses are more prone to sleep disorders. \n",
    "The BMI of the patient also plays a vital role in the prediction of sleep disorders. \n",
    "The patients who are either Obese or overweight are more prone to sleep disorders.\n",
    "\n",
    "Coming to the classfication models, both the models performed pretty good, \n",
    "\n",
    "however the Random Forest Classifier have excellent results with 89% accuracy."
   ]
  }
 ],
 "metadata": {
  "kernelspec": {
   "display_name": "Python 3 (ipykernel)",
   "language": "python",
   "name": "python3"
  },
  "language_info": {
   "codemirror_mode": {
    "name": "ipython",
    "version": 3
   },
   "file_extension": ".py",
   "mimetype": "text/x-python",
   "name": "python",
   "nbconvert_exporter": "python",
   "pygments_lexer": "ipython3",
   "version": "3.9.12"
  }
 },
 "nbformat": 4,
 "nbformat_minor": 5
}
